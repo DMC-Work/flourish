{
 "cells": [
  {
   "cell_type": "code",
   "execution_count": 16,
   "id": "39c8af62",
   "metadata": {},
   "outputs": [],
   "source": [
    "import os\n",
    "import pandas as pd\n",
    "from django.apps import apps as django_apps\n",
    "os.environ[\"DJANGO_ALLOW_ASYNC_UNSAFE\"] = \"true\"\n",
    "from flourish_child.models import Appointment"
   ]
  },
  {
   "cell_type": "markdown",
   "id": "9c0fd14f",
   "metadata": {},
   "source": [
    "## Remove Cohort C\n",
    "\n",
    "Cohort C was created on 2023-04, but Cohort C Sec was created in 2021, so Cohort C is the anomaly and no data was captured against the Cohort C enrolment hence should be removed together with the calendar note"
   ]
  },
  {
   "cell_type": "code",
   "execution_count": 23,
   "id": "c0eafe57",
   "metadata": {},
   "outputs": [],
   "source": [
    "subject_identifier = 'B142-040990172-4-10'\n",
    "\n",
    "schedule_name = \"child_c_enrol_schedule1\"\n",
    "\n",
    "visit_exist = ChildVisit.objects.filter(\n",
    "    subject_identifier = subject_identifier,\n",
    "    appointment__schedule_name = schedule_name,\n",
    ").exists()\n",
    "\n",
    "if not visit_exist:\n",
    "\n",
    "    OnScheduleChildCohortCEnrollment.objects.filter(\n",
    "        subject_identifier=subject_identifier,\n",
    "        schedule_name = schedule_name\n",
    "    ).delete()\n",
    "\n",
    "\n",
    "    SubjectScheduleHistory.objects.filter(\n",
    "        subject_identifier = subject_identifier,\n",
    "        schedule_name = schedule_name,\n",
    "    ).delete()\n",
    "\n",
    "\n",
    "    Appointment.objects.filter(\n",
    "        subject_identifier = subject_identifier,\n",
    "        schedule_name = schedule_name,\n",
    "        visit_code = '2000'\n",
    "    ).delete()\n",
    "\n",
    "\n",
    "    ParticipantNote.objects.filter(\n",
    "        subject_identifier = subject_identifier,\n",
    "        title = \"Follow Up Schedule\"\n",
    "    ).delete()\n"
   ]
  },
  {
   "cell_type": "code",
   "execution_count": 21,
   "id": "b4516361",
   "metadata": {},
   "outputs": [
    {
     "data": {
      "text/plain": [
       "<QuerySet []>"
      ]
     },
     "execution_count": 21,
     "metadata": {},
     "output_type": "execute_result"
    }
   ],
   "source": []
  },
  {
   "cell_type": "code",
   "execution_count": null,
   "id": "9c89d963",
   "metadata": {},
   "outputs": [],
   "source": []
  }
 ],
 "metadata": {
  "kernelspec": {
   "display_name": "Django Shell-Plus",
   "language": "python",
   "name": "django_extensions"
  },
  "language_info": {
   "codemirror_mode": {
    "name": "ipython",
    "version": 3
   },
   "file_extension": ".py",
   "mimetype": "text/x-python",
   "name": "python",
   "nbconvert_exporter": "python",
   "pygments_lexer": "ipython3",
   "version": "3.10.4"
  }
 },
 "nbformat": 4,
 "nbformat_minor": 5
}
