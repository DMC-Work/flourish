{
 "cells": [
  {
   "cell_type": "code",
   "execution_count": 1,
   "id": "64ea3693",
   "metadata": {},
   "outputs": [],
   "source": [
    "import os \n",
    "os.environ[\"DJANGO_ALLOW_ASYNC_UNSAFE\"] = \"true\"\n"
   ]
  },
  {
   "cell_type": "code",
   "execution_count": 6,
   "id": "43b1e38b",
   "metadata": {},
   "outputs": [],
   "source": [
    "import pytz, datetime\n",
    "from flourish_caregiver.models import CaregiverOffSchedule\n",
    "from flourish_child.helper_classes.child_fu_onschedule_helper import ChildFollowUpEnrolmentHelper\n",
    "from flourish_child.models import Appointment as ChildAppointment\n",
    "from edc_appointment.models import Appointment as CaregiverAppointment\n",
    "from edc_base.utils import get_utcnow\n",
    "from edc_visit_schedule.site_visit_schedules import site_visit_schedules\n",
    "from django.db import IntegrityError\n",
    "from django.db.models.deletion import ProtectedError"
   ]
  },
  {
   "cell_type": "code",
   "execution_count": 5,
   "id": "d3369afb",
   "metadata": {},
   "outputs": [],
   "source": [
    "subject_identifier = 'B142-040990639-2'\n",
    "schedule_name = 'c_fu1_schedule1'\n",
    "onschedule_model_cls = 'flourish_caregiver.onschedulecohortcfu'\n",
    "\n",
    "_, new_schedule = site_visit_schedules.get_by_onschedule_model_schedule_name(\n",
    "    name=schedule_name,\n",
    "    onschedule_model=onschedule_model_cls)\n",
    "\n",
    "onsch = OnScheduleChildCohortCFU.objects.get(subject_identifier='B142-040990639-2-10')\n",
    "tz = pytz.timezone('Africa/Gaborone')\n",
    "dt = onsch.onschedule_datetime.astimezone(tz)\n",
    "\n",
    "new_schedule.put_on_schedule(\n",
    "            subject_identifier=subject_identifier,\n",
    "            schedule_name=schedule_name,\n",
    "            onschedule_datetime=dt,\n",
    "            base_appt_datetime=dt)\n",
    "\n",
    "quart = OnScheduleCohortCQuarterly.objects.get(subject_identifier=subject_identifier,)\n",
    "caregiver_appointment = CaregiverAppointment.objects.filter(\n",
    "    subject_identifier=subject_identifier,\n",
    "    schedule_name=quart.schedule_name).exclude(appt_status='new').latest('appt_datetime')\n",
    "\n",
    "try:\n",
    "    CaregiverOffSchedule.objects.create(\n",
    "                        subject_identifier=caregiver_appointment.subject_identifier,\n",
    "                        schedule_name=caregiver_appointment.schedule_name,\n",
    "                        offschedule_datetime=dt)\n",
    "except (CaregiverOffSchedule.DoesNotExist, IntegrityError):\n",
    "    pass"
   ]
  },
  {
   "cell_type": "code",
   "execution_count": 13,
   "id": "05ff377b",
   "metadata": {},
   "outputs": [],
   "source": [
    "\"\"\" Remove cohort A follow up schedules, not on follow yet.\n",
    "\"\"\"\n",
    "onsch_a = OnScheduleCohortAFU.objects.get(subject_identifier=subject_identifier)\n",
    "onsch_quart = OnScheduleCohortAQuarterly.objects.get(subject_identifier=subject_identifier)\n",
    "\n",
    "ssh_a = SubjectScheduleHistory.objects.get(\n",
    "    subject_identifier=subject_identifier, schedule_name=onsch_a.schedule_name)\n",
    "fu_appt = CaregiverAppointment.objects.get(\n",
    "    subject_identifier=subject_identifier, schedule_name=onsch_a.schedule_name)\n",
    "try:\n",
    "    fu_appt.delete()\n",
    "except ProtectedError:\n",
    "    pass\n",
    "else:\n",
    "    onsch_a.delete()\n",
    "    ssh_a.delete()\n",
    "\n",
    "    # Remove offschedule\n",
    "    offschedule = CaregiverOffSchedule.objects.filter(\n",
    "            subject_identifier=subject_identifier,\n",
    "            schedule_name=onsch_quart.schedule_name,)\n",
    "\n",
    "    offschedule._raw_delete(using=offschedule.db)\n",
    "    ssh = SubjectScheduleHistory.objects.get(subject_identifier=subject_identifier,\n",
    "                                             schedule_name=onsch_quart.schedule_name,)\n",
    "    ssh.offschedule_datetime = None\n",
    "    ssh.schedule_status = 'onschedule'\n",
    "    ssh.save()"
   ]
  },
  {
   "cell_type": "code",
   "execution_count": null,
   "id": "6d866b99",
   "metadata": {},
   "outputs": [],
   "source": []
  }
 ],
 "metadata": {
  "kernelspec": {
   "display_name": "Django Shell-Plus",
   "language": "python",
   "name": "django_extensions"
  },
  "language_info": {
   "codemirror_mode": {
    "name": "ipython",
    "version": 3
   },
   "file_extension": ".py",
   "mimetype": "text/x-python",
   "name": "python",
   "nbconvert_exporter": "python",
   "pygments_lexer": "ipython3",
   "version": "3.6.6"
  }
 },
 "nbformat": 4,
 "nbformat_minor": 5
}
