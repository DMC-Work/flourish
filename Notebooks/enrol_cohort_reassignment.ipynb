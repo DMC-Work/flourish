{
 "cells": [
  {
   "cell_type": "code",
   "execution_count": 1,
   "id": "b697a29c",
   "metadata": {},
   "outputs": [],
   "source": [
    "import os\n",
    "import pytz\n",
    "os.environ[\"DJANGO_ALLOW_ASYNC_UNSAFE\"] = \"true\"\n",
    "from cacheops import invalidate_all\n",
    "from django.apps import apps as django_apps\n",
    "from flourish_caregiver.helper_classes.utils import cohort_assigned\n",
    "from flourish_caregiver.helper_classes import SequentialCohortEnrollment\n",
    "from flourish_caregiver.helper_classes.schedule_dict import child_schedule_dict, caregiver_schedule_dict\n",
    "from flourish_child.models import Appointment as ChildAppointment\n",
    "from edc_appointment.models import Appointment\n",
    "from edc_appointment.constants import NEW_APPT\n",
    "from edc_visit_schedule import site_visit_schedules\n",
    "from edc_base.utils import get_utcnow, age, relativedelta\n",
    "from tqdm import tqdm"
   ]
  },
  {
   "cell_type": "code",
   "execution_count": 2,
   "id": "5eb3dfec",
   "metadata": {},
   "outputs": [],
   "source": [
    "child_identifiers = CaregiverChildConsent.objects.exclude(\n",
    "    preg_enroll=True).values_list('subject_identifier', flat=True).distinct()\n",
    "child_identifiers = list(set(child_identifiers))"
   ]
  },
  {
   "cell_type": "code",
   "execution_count": null,
   "id": "c20d7398",
   "metadata": {},
   "outputs": [],
   "source": [
    "# Order pids by aged out\n",
    "child_identifiers.sort()\n",
    "upper_limit = {'cohort_a': 5, 'cohort_b': 10, 'cohort_a_sec': 5, 'cohort_b_sec': 10, }\n",
    "ordered_child_idx = []\n",
    "for idx in tqdm(child_identifiers):\n",
    "    earliest_consent = CaregiverChildConsent.objects.filter(subject_identifier=idx).earliest('consent_datetime')\n",
    "    cohort = earliest_consent.cohort\n",
    "    child_age = age(earliest_consent.child_dob, get_utcnow().date())\n",
    "    child_age = round(child_age.years + (child_age.months/12) + (child_age.days/365.25), 2)\n",
    "    age_limit = upper_limit.get(cohort)\n",
    "    if age_limit and child_age > age_limit:\n",
    "        ordered_child_idx.append(idx)\n",
    "        child_identifiers.remove(idx)"
   ]
  },
  {
   "cell_type": "code",
   "execution_count": null,
   "id": "1f2ab8d4",
   "metadata": {},
   "outputs": [],
   "source": [
    "child_identifiers = ordered_child_idx + child_identifiers\n",
    "len(child_identifiers)\n",
    "child_identifiers"
   ]
  },
  {
   "cell_type": "code",
   "execution_count": 3,
   "id": "c3bf1f13",
   "metadata": {},
   "outputs": [
    {
     "name": "stderr",
     "output_type": "stream",
     "text": [
      "100%|██████████| 989/989 [00:43<00:00, 22.87it/s]"
     ]
    },
    {
     "name": "stdout",
     "output_type": "stream",
     "text": [
      "Created 0 cohort instance(s)\n"
     ]
    },
    {
     "name": "stderr",
     "output_type": "stream",
     "text": [
      "\n"
     ]
    }
   ],
   "source": [
    "# Create cohort instance for enrolment cohort\n",
    "count = 0\n",
    "for idx in tqdm(child_identifiers):\n",
    "    childconsent_obj = CaregiverChildConsent.objects.filter(subject_identifier=idx).earliest('consent_datetime')\n",
    "    obj, created = Cohort.objects.get_or_create(\n",
    "        subject_identifier=childconsent_obj.subject_identifier,\n",
    "        name=childconsent_obj.cohort,\n",
    "        defaults={'assign_datetime': get_utcnow(), 'enrollment_cohort': True})\n",
    "    if created:\n",
    "        count += 1\n",
    "print(f'Created {count} cohort instance(s)')"
   ]
  },
  {
   "cell_type": "code",
   "execution_count": 3,
   "id": "98ae4499",
   "metadata": {},
   "outputs": [
    {
     "name": "stderr",
     "output_type": "stream",
     "text": [
      "100%|██████████| 989/989 [02:34<00:00,  6.42it/s]\n"
     ]
    }
   ],
   "source": [
    "# Current age cohort recalculation\n",
    "# import math\n",
    "\n",
    "# records = []\n",
    "# age_limits = {'cohort_a': 5,\n",
    "#               'cohort_b': 10, }\n",
    "# for idx in tqdm(child_identifiers):\n",
    "#     childconsent_obj = CaregiverChildConsent.objects.filter(subject_identifier=idx).earliest('consent_datetime')\n",
    "#     if not childconsent_obj.is_preg:\n",
    "#         enrol_cohort = childconsent_obj.cohort\n",
    "#         cohort = cohort_assigned(\n",
    "#             childconsent_obj.study_child_identifier,\n",
    "#             childconsent_obj.child_dob,\n",
    "#             get_utcnow().date())\n",
    "\n",
    "#         child_age = age(childconsent_obj.child_dob, get_utcnow().date())\n",
    "#         child_age = round(child_age.years + (child_age.months/12) + (child_age.days/365.25), 2)\n",
    "#         caregiver_subject_identifier = childconsent_obj.subject_consent.subject_identifier\n",
    "#         if (cohort and enrol_cohort != cohort and cohort != f'{enrol_cohort}_sec'):\n",
    "#             limit_age = age_limits.get(enrol_cohort, 0)\n",
    "#             difference = (child_age - limit_age) * 365.25\n",
    "#             date_aged = get_utcnow().date() - relativedelta(days=difference)\n",
    "\n",
    "#             records.append({'subject_identifier': idx,\n",
    "#                             'caregiver_subject_identifier': caregiver_subject_identifier,\n",
    "#                             'child_count': childconsent_obj.caregiver_visit_count,\n",
    "#                             'child_dob': childconsent_obj.child_dob,\n",
    "#                             'enrolment_cohort': enrol_cohort,\n",
    "#                             'current_age': child_age,\n",
    "#                             'current_cohort': cohort,\n",
    "#                             'date_aged_up': date_aged})"
   ]
  },
  {
   "cell_type": "code",
   "execution_count": null,
   "id": "09b984e9",
   "metadata": {},
   "outputs": [],
   "source": [
    "# no_followup = []\n",
    "# followup = []\n",
    "# for record in records:\n",
    "#     enrol_cohort = record.get('enrolment_cohort')\n",
    "#     if 'sec' in enrol_cohort:\n",
    "#         no_followup.append(record)\n",
    "#         continue\n",
    "#     model = child_schedule_dict[enrol_cohort]['followup']['onschedule_model']\n",
    "#     model_cls = django_apps.get_model(model)\n",
    "#     try:\n",
    "#         model_cls.objects.get(subject_identifier=record.get('subject_identifier'))\n",
    "#     except model_cls.DoesNotExist:\n",
    "#         no_followup.append(record)\n",
    "#     else:\n",
    "#         followup.append(record)"
   ]
  },
  {
   "cell_type": "code",
   "execution_count": null,
   "id": "0b555ac7",
   "metadata": {},
   "outputs": [],
   "source": [
    "# import csv\n",
    "# keys = no_followup[0].keys()\n",
    "# with open('main_to_sec.csv', 'w', newline='') as output_file:\n",
    "#     dict_writer = csv.DictWriter(output_file, keys)\n",
    "#     dict_writer.writeheader()\n",
    "#     dict_writer.writerows(no_followup)"
   ]
  },
  {
   "cell_type": "code",
   "execution_count": 4,
   "id": "6fd21821",
   "metadata": {},
   "outputs": [],
   "source": [
    "def take_off_schedule(onschedule_model_obj):\n",
    "    subject_identifier = onschedule_model_obj.subject_identifier\n",
    "    schedule_name = onschedule_model_obj.schedule_name\n",
    "    onschedule_model = onschedule_model_obj.onschedule_model\n",
    "\n",
    "    _, schedule = site_visit_schedules.get_by_onschedule_model_schedule_name(\n",
    "        onschedule_model=onschedule_model, name=schedule_name)\n",
    "\n",
    "    if schedule.is_onschedule(\n",
    "        subject_identifier=subject_identifier, report_datetime=get_utcnow()):\n",
    "        schedule.take_off_schedule(\n",
    "            subject_identifier=subject_identifier,\n",
    "            schedule_name=schedule_name)\n"
   ]
  },
  {
   "cell_type": "code",
   "execution_count": 5,
   "id": "9c747e9d",
   "metadata": {},
   "outputs": [],
   "source": [
    "def delete_completed_appointments(appointment_model_cls, subject_identifier,\n",
    "                                  schedule_name ):\n",
    "    complete_appts = appointment_model_cls.objects.filter(\n",
    "        Q(schedule_name__icontains='quart') | Q(schedule_name__icontains='qt'),\n",
    "        subject_identifier=subject_identifier, ).exclude(\n",
    "            appt_status=NEW_APPT).values_list('visit_code', flat=True).distinct()\n",
    "\n",
    "    new_appts = appointment_model_cls.objects.filter(\n",
    "        subject_identifier=subject_identifier,\n",
    "        schedule_name=schedule_name,\n",
    "        visit_code__in=complete_appts)\n",
    "    if new_appts.exists():\n",
    "        new_appts.delete()"
   ]
  },
  {
   "cell_type": "code",
   "execution_count": 6,
   "id": "4cda1fe7",
   "metadata": {},
   "outputs": [],
   "source": [
    "def update_onschedule_model(subject_identifier, child_subject_identifier,\n",
    "                            onschedule_model, schedule_name, ):\n",
    "\n",
    "    onschedule_model_cls = django_apps.get_model(onschedule_model)\n",
    "    try:\n",
    "        onschedule_model_cls.objects.get(\n",
    "            subject_identifier=subject_identifier,\n",
    "            schedule_name=schedule_name,\n",
    "            child_subject_identifier=child_subject_identifier)\n",
    "    except onschedule_model_cls.DoesNotExist:\n",
    "        try:\n",
    "            onschedule_obj = onschedule_model_cls.objects.get(\n",
    "                subject_identifier=subject_identifier,\n",
    "                schedule_name=schedule_name)\n",
    "        except schedule.onschedule_model_cls.DoesNotExist:\n",
    "            pass\n",
    "        else:\n",
    "            onschedule_obj.child_subject_identifier = child_subject_identifier\n",
    "            onschedule_obj.save()"
   ]
  },
  {
   "cell_type": "code",
   "execution_count": 7,
   "id": "a002bac1",
   "metadata": {},
   "outputs": [],
   "source": [
    "def put_on_schedule(onschedule_model, schedule_name,\n",
    "                    subject_identifier, base_appt_datetime=None, ):\n",
    "    _, schedule = site_visit_schedules.get_by_onschedule_model_schedule_name(\n",
    "        onschedule_model=onschedule_model,\n",
    "        name=schedule_name)\n",
    "\n",
    "    schedule.put_on_schedule(\n",
    "        subject_identifier=subject_identifier,\n",
    "        onschedule_datetime=get_utcnow(),\n",
    "        base_appt_datetime=base_appt_datetime,\n",
    "        schedule_name=schedule_name)"
   ]
  },
  {
   "cell_type": "code",
   "execution_count": 8,
   "id": "f1bab738",
   "metadata": {},
   "outputs": [],
   "source": [
    "def put_onschedule(cohort, schedule_type, schedule_dict, onschedule_datetime,\n",
    "                   subject_identifier, appointment_cls, is_caregiver=False, child_count=None):\n",
    "    onschedule_model = schedule_dict[cohort][schedule_type]['onschedule_model']\n",
    "    if is_caregiver:\n",
    "        schedule_name = schedule_dict[cohort][schedule_type][child_count]\n",
    "    else:\n",
    "        schedule_name = schedule_dict[cohort][schedule_type]['name']\n",
    "\n",
    "    _, schedule = site_visit_schedules.get_by_onschedule_model_schedule_name(\n",
    "            onschedule_model=onschedule_model,\n",
    "            name=schedule_name)\n",
    "\n",
    "    if not schedule.is_onschedule(\n",
    "        subject_identifier=subject_identifier, report_datetime=onschedule_datetime):\n",
    "\n",
    "        put_on_schedule(onschedule_model=onschedule_model,\n",
    "                        schedule_name=schedule_name,\n",
    "                        base_appt_datetime=onschedule_datetime,\n",
    "                        subject_identifier=subject_identifier)\n",
    "\n",
    "        delete_completed_appointments(\n",
    "                appointment_model_cls=appointment_cls,\n",
    "                subject_identifier=subject_identifier,\n",
    "                schedule_name=schedule_name) \n",
    "            \n",
    "    return onschedule_model, schedule_name\n"
   ]
  },
  {
   "cell_type": "code",
   "execution_count": 9,
   "id": "de284b12",
   "metadata": {},
   "outputs": [],
   "source": [
    "def get_onschedule_obj(subject_identifier, cohort):\n",
    "    cohort = f'{cohort}_' if 'sec' not in cohort else cohort\n",
    "    try:\n",
    "        schedule_obj = SubjectScheduleHistory.objects.filter(\n",
    "            subject_identifier=subject_identifier,\n",
    "            schedule_name__icontains=cohort.replace('cohort_', '')).filter(\n",
    "            Q(schedule_name__icontains='qt') | Q(schedule_name__icontains='quart')).latest('onschedule_datetime')\n",
    "    except SubjectScheduleHistory.DoesNotExist:\n",
    "        raise\n",
    "    else:\n",
    "        return schedule_obj"
   ]
  },
  {
   "cell_type": "code",
   "execution_count": 10,
   "id": "7cc5a3af",
   "metadata": {},
   "outputs": [],
   "source": [
    "def get_schedule_type(onschedule_obj, current_cohort):\n",
    "    schedule_name = onschedule_obj.schedule_name\n",
    "    if 'fu' in schedule_name and '_sec' not in current_cohort:\n",
    "        return 'followup_quarterly'\n",
    "    else:\n",
    "        return 'quarterly'"
   ]
  },
  {
   "cell_type": "code",
   "execution_count": 12,
   "id": "197f73bf",
   "metadata": {},
   "outputs": [
    {
     "name": "stderr",
     "output_type": "stream",
     "text": [
      "\r",
      "  0%|          | 0/291 [00:00<?, ?it/s]"
     ]
    },
    {
     "name": "stdout",
     "output_type": "stream",
     "text": [
      "start C142-040990124-5-10\n"
     ]
    },
    {
     "name": "stderr",
     "output_type": "stream",
     "text": [
      "\r",
      "  0%|          | 1/291 [00:00<01:28,  3.29it/s]"
     ]
    },
    {
     "name": "stdout",
     "output_type": "stream",
     "text": [
      "done C142-040990124-5-10\n",
      "start B142-040990752-3-10\n"
     ]
    },
    {
     "name": "stderr",
     "output_type": "stream",
     "text": [
      "\r",
      "  1%|          | 2/291 [00:00<01:21,  3.56it/s]"
     ]
    },
    {
     "name": "stdout",
     "output_type": "stream",
     "text": [
      "done B142-040990752-3-10\n",
      "start B142-040990315-9-10\n"
     ]
    },
    {
     "name": "stderr",
     "output_type": "stream",
     "text": [
      "\r",
      "  1%|          | 3/291 [00:01<01:49,  2.62it/s]"
     ]
    },
    {
     "name": "stdout",
     "output_type": "stream",
     "text": [
      "done B142-040990315-9-10\n",
      "start B142-040990186-4-10\n"
     ]
    },
    {
     "name": "stderr",
     "output_type": "stream",
     "text": [
      "\r",
      "  1%|▏         | 4/291 [00:01<01:39,  2.89it/s]"
     ]
    },
    {
     "name": "stdout",
     "output_type": "stream",
     "text": [
      "done B142-040990186-4-10\n",
      "start B142-040990359-7-10\n"
     ]
    },
    {
     "name": "stderr",
     "output_type": "stream",
     "text": [
      "\r",
      "  2%|▏         | 5/291 [00:01<01:26,  3.32it/s]"
     ]
    },
    {
     "name": "stdout",
     "output_type": "stream",
     "text": [
      "done B142-040990359-7-10\n",
      "start B142-040990035-3-10\n"
     ]
    },
    {
     "name": "stderr",
     "output_type": "stream",
     "text": [
      "  3%|▎         | 8/291 [00:03<01:52,  2.51it/s]"
     ]
    },
    {
     "name": "stdout",
     "output_type": "stream",
     "text": [
      "done B142-040990035-3-10\n",
      "start B142-040990549-3-10\n",
      "done B142-040990549-3-10\n",
      "start B142-040990649-1-10\n"
     ]
    },
    {
     "name": "stderr",
     "output_type": "stream",
     "text": [
      "\r",
      "  3%|▎         | 9/291 [00:03<02:32,  1.84it/s]"
     ]
    },
    {
     "name": "stdout",
     "output_type": "stream",
     "text": [
      "done B142-040990649-1-10\n",
      "start B142-040990453-8-10\n"
     ]
    },
    {
     "name": "stderr",
     "output_type": "stream",
     "text": [
      "\r",
      "  3%|▎         | 10/291 [00:05<03:12,  1.46it/s]"
     ]
    },
    {
     "name": "stdout",
     "output_type": "stream",
     "text": [
      "done B142-040990453-8-10\n",
      "start B142-040990173-2-10\n"
     ]
    },
    {
     "name": "stderr",
     "output_type": "stream",
     "text": [
      "\r",
      "  4%|▍         | 11/291 [00:06<03:44,  1.25it/s]"
     ]
    },
    {
     "name": "stdout",
     "output_type": "stream",
     "text": [
      "done B142-040990173-2-10\n",
      "start B142-040990371-2-10\n"
     ]
    },
    {
     "name": "stderr",
     "output_type": "stream",
     "text": [
      "\r",
      "  4%|▍         | 12/291 [00:07<04:02,  1.15it/s]"
     ]
    },
    {
     "name": "stdout",
     "output_type": "stream",
     "text": [
      "done B142-040990371-2-10\n",
      "start B142-040990065-0-35\n"
     ]
    },
    {
     "name": "stderr",
     "output_type": "stream",
     "text": [
      "\r",
      "  4%|▍         | 13/291 [00:08<04:18,  1.07it/s]"
     ]
    },
    {
     "name": "stdout",
     "output_type": "stream",
     "text": [
      "done B142-040990065-0-35\n",
      "start B142-040990163-3-10\n"
     ]
    },
    {
     "name": "stderr",
     "output_type": "stream",
     "text": [
      "\r",
      "  5%|▍         | 14/291 [00:09<04:31,  1.02it/s]"
     ]
    },
    {
     "name": "stdout",
     "output_type": "stream",
     "text": [
      "done B142-040990163-3-10\n",
      "start B142-040990626-9-25\n"
     ]
    },
    {
     "name": "stderr",
     "output_type": "stream",
     "text": [
      "  5%|▌         | 16/291 [00:10<03:26,  1.33it/s]"
     ]
    },
    {
     "name": "stdout",
     "output_type": "stream",
     "text": [
      "done B142-040990626-9-25\n",
      "start B142-040990081-7-10\n",
      "done B142-040990081-7-10\n",
      "start B142-040990566-7-10\n"
     ]
    },
    {
     "name": "stderr",
     "output_type": "stream",
     "text": [
      "\r",
      "  6%|▌         | 17/291 [00:11<03:45,  1.21it/s]"
     ]
    },
    {
     "name": "stdout",
     "output_type": "stream",
     "text": [
      "done B142-040990566-7-10\n",
      "start B142-040990296-1-35\n"
     ]
    },
    {
     "name": "stderr",
     "output_type": "stream",
     "text": [
      "  6%|▌         | 17/291 [00:11<03:10,  1.44it/s]\n"
     ]
    },
    {
     "ename": "KeyError",
     "evalue": "'None'",
     "output_type": "error",
     "traceback": [
      "\u001b[0;31m---------------------------------------------------------------------------\u001b[0m",
      "\u001b[0;31mKeyError\u001b[0m                                  Traceback (most recent call last)",
      "\u001b[0;32m<ipython-input-12-16e735b53123>\u001b[0m in \u001b[0;36m<module>\u001b[0;34m\u001b[0m\n\u001b[1;32m     41\u001b[0m         \u001b[0mcurrent_cohort\u001b[0m\u001b[0;34m,\u001b[0m \u001b[0mschedule_type\u001b[0m\u001b[0;34m,\u001b[0m \u001b[0mcaregiver_schedule_dict\u001b[0m\u001b[0;34m,\u001b[0m\u001b[0;34m\u001b[0m\u001b[0;34m\u001b[0m\u001b[0m\n\u001b[1;32m     42\u001b[0m         \u001b[0monschedule_obj\u001b[0m\u001b[0;34m.\u001b[0m\u001b[0monschedule_datetime\u001b[0m\u001b[0;34m,\u001b[0m\u001b[0;34m\u001b[0m\u001b[0;34m\u001b[0m\u001b[0m\n\u001b[0;32m---> 43\u001b[0;31m         caregiver_subject_identifier, Appointment, is_caregiver=True, child_count=str(child_count))\n\u001b[0m\u001b[1;32m     44\u001b[0m \u001b[0;34m\u001b[0m\u001b[0m\n\u001b[1;32m     45\u001b[0m     \u001b[0;31m# Update child subject identifier\u001b[0m\u001b[0;34m\u001b[0m\u001b[0;34m\u001b[0m\u001b[0;34m\u001b[0m\u001b[0m\n",
      "\u001b[0;32m<ipython-input-8-8bb8aa5e4a1f>\u001b[0m in \u001b[0;36mput_onschedule\u001b[0;34m(cohort, schedule_type, schedule_dict, onschedule_datetime, subject_identifier, appointment_cls, is_caregiver, child_count)\u001b[0m\n\u001b[1;32m      3\u001b[0m     \u001b[0monschedule_model\u001b[0m \u001b[0;34m=\u001b[0m \u001b[0mschedule_dict\u001b[0m\u001b[0;34m[\u001b[0m\u001b[0mcohort\u001b[0m\u001b[0;34m]\u001b[0m\u001b[0;34m[\u001b[0m\u001b[0mschedule_type\u001b[0m\u001b[0;34m]\u001b[0m\u001b[0;34m[\u001b[0m\u001b[0;34m'onschedule_model'\u001b[0m\u001b[0;34m]\u001b[0m\u001b[0;34m\u001b[0m\u001b[0;34m\u001b[0m\u001b[0m\n\u001b[1;32m      4\u001b[0m     \u001b[0;32mif\u001b[0m \u001b[0mis_caregiver\u001b[0m\u001b[0;34m:\u001b[0m\u001b[0;34m\u001b[0m\u001b[0;34m\u001b[0m\u001b[0m\n\u001b[0;32m----> 5\u001b[0;31m         \u001b[0mschedule_name\u001b[0m\u001b[0;34m=\u001b[0m\u001b[0mcaregiver_schedule_dict\u001b[0m\u001b[0;34m[\u001b[0m\u001b[0mcohort\u001b[0m\u001b[0;34m]\u001b[0m\u001b[0;34m[\u001b[0m\u001b[0mschedule_type\u001b[0m\u001b[0;34m]\u001b[0m\u001b[0;34m[\u001b[0m\u001b[0mchild_count\u001b[0m\u001b[0;34m]\u001b[0m\u001b[0;34m\u001b[0m\u001b[0;34m\u001b[0m\u001b[0m\n\u001b[0m\u001b[1;32m      6\u001b[0m     \u001b[0;32melse\u001b[0m\u001b[0;34m:\u001b[0m\u001b[0;34m\u001b[0m\u001b[0;34m\u001b[0m\u001b[0m\n\u001b[1;32m      7\u001b[0m         \u001b[0mschedule_name\u001b[0m \u001b[0;34m=\u001b[0m \u001b[0mschedule_dict\u001b[0m\u001b[0;34m[\u001b[0m\u001b[0mcohort\u001b[0m\u001b[0;34m]\u001b[0m\u001b[0;34m[\u001b[0m\u001b[0mschedule_type\u001b[0m\u001b[0;34m]\u001b[0m\u001b[0;34m[\u001b[0m\u001b[0;34m'name'\u001b[0m\u001b[0;34m]\u001b[0m\u001b[0;34m\u001b[0m\u001b[0;34m\u001b[0m\u001b[0m\n",
      "\u001b[0;31mKeyError\u001b[0m: 'None'"
     ]
    }
   ],
   "source": [
    "from cacheops import invalidate_model\n",
    "\"\"\"\n",
    "    Take participant offschedule for enrolment cohort and put onschedule for subsequent cohort schedule\n",
    "    1. Create a cohort instance for `current cohort`,\n",
    "        NOTE: If cohort instance already exists assume already put onschedule\n",
    "    2. Take offschedule for `enrolment cohort`\n",
    "    3. Put onschedule for `current cohort`\n",
    "    4. Make sure to align appointments for `current cohort` schedule with enrolment\n",
    "\"\"\"\n",
    "for idx in tqdm(child_identifiers):\n",
    "    childconsent_obj = CaregiverChildConsent.objects.filter(subject_identifier=idx).earliest('consent_datetime')\n",
    "    if childconsent_obj.is_preg:\n",
    "        continue\n",
    "    enrol_cohort = childconsent_obj.cohort\n",
    "    current_cohort = cohort_assigned(\n",
    "        childconsent_obj.study_child_identifier,\n",
    "        childconsent_obj.child_dob,\n",
    "        get_utcnow().date())\n",
    "\n",
    "    caregiver_subject_identifier = childconsent_obj.subject_consent.subject_identifier\n",
    "    if (current_cohort and enrol_cohort != current_cohort and current_cohort != f'{enrol_cohort}_sec'):\n",
    "        if idx in ['B142-040990120-3-10', 'B142-040990263-1-10', 'B142-040990311-8-10',\n",
    "                   'B142-040990341-5-10', 'B142-040990466-0-10', 'B142-040990612-9-60',\n",
    "                   'B142-040990666-5-60', 'B142-040990755-6-10', 'B142-040990943-8-10',\n",
    "                   'C142-040990599-8-10']:\n",
    "            continue\n",
    "\n",
    "        print('start', idx)\n",
    "        obj, created = Cohort.objects.get_or_create(\n",
    "            subject_identifier=idx,\n",
    "            name=current_cohort,\n",
    "            defaults={'assign_datetime': get_utcnow(), 'enrollment_cohort': False})\n",
    "\n",
    "        # Take child offschedule\n",
    "        onschedule_obj = get_onschedule_obj(idx, enrol_cohort)\n",
    "        take_off_schedule(onschedule_obj)\n",
    "\n",
    "        # Put child onschedule\n",
    "        schedule_type = get_schedule_type(onschedule_obj, current_cohort)\n",
    "        put_onschedule(current_cohort, schedule_type, child_schedule_dict,\n",
    "                       onschedule_obj.onschedule_datetime,\n",
    "                       idx, ChildAppointment, )\n",
    "\n",
    "        # Put onschedule for followup 6 months after sequential enrolment\n",
    "        if 'follow' in schedule_type:\n",
    "            onschedule_datetime = get_utcnow() + relativedelta(months=6)\n",
    "            put_onschedule(current_cohort, 'followup', child_schedule_dict,\n",
    "                           onschedule_datetime, idx, ChildAppointment)\n",
    "\n",
    "        # Take caregiver offschedule\n",
    "        onschedule_obj = get_onschedule_obj(caregiver_subject_identifier, enrol_cohort)\n",
    "        take_off_schedule(onschedule_obj)\n",
    "\n",
    "        # Put caregiver onschedule\n",
    "        schedule_type = get_schedule_type(onschedule_obj, current_cohort)\n",
    "        child_count = childconsent_obj.caregiver_visit_count\n",
    "        onschedule_model, schedule_name = put_onschedule(\n",
    "            current_cohort, schedule_type, caregiver_schedule_dict,\n",
    "            onschedule_obj.onschedule_datetime,\n",
    "            caregiver_subject_identifier, Appointment, is_caregiver=True, child_count=str(child_count))\n",
    "\n",
    "        # Update child subject identifier\n",
    "        update_onschedule_model(caregiver_subject_identifier, idx,\n",
    "                                onschedule_model, schedule_name, )\n",
    "\n",
    "        # Put onschedule for followup 6 months after sequential enrolment\n",
    "        if 'follow' in schedule_type:\n",
    "            onschedule_datetime = get_utcnow() + relativedelta(months=6)\n",
    "            onschedule_model, schedule_name = put_onschedule(\n",
    "                current_cohort, 'followup', caregiver_schedule_dict,\n",
    "                onschedule_datetime, caregiver_subject_identifier, Appointment, is_caregiver=True, child_count=str(child_count))\n",
    "\n",
    "            update_onschedule_model(caregiver_subject_identifier, idx,\n",
    "                                    onschedule_model, schedule_name, )\n",
    "        print('done', idx)\n",
    "        invalidate_model(Cohort)\n",
    "        invalidate_all()"
   ]
  },
  {
   "cell_type": "code",
   "execution_count": null,
   "id": "f725ee18",
   "metadata": {},
   "outputs": [],
   "source": [
    "# Data fix to complete the caregiver visit count on the child consent.\n",
    "child_consents =  CaregiverChildConsent.objects.values_list('subject_identifier', flat=True)\n",
    "\n",
    "\n",
    "caregiver_models = dir(django_apps.get_app_config('flourish_caregiver').models_module.onschedule)\n",
    "caregiver_models = [model for model in caregiver_models if model.lower().startswith('onschedulecohort')]\n",
    "\n",
    "for idx in twins:\n",
    "    for onschedule in caregiver_models:\n",
    "        onschedule = onschedule.lower()\n",
    "        onschedule_cls = django_apps.get_model(f'flourish_caregiver.{onschedule}')\n",
    "\n",
    "        reg_subject = RegisteredSubject.objects.get(subject_identifier=idx)\n",
    "        onschedule_obj = onschedule_cls.objects.filter(subject_identifier=reg_subject.relative_identifier).first()\n",
    "        if not onschedule_obj:\n",
    "            continue\n",
    "        schedule_name = onschedule_obj.schedule_name[:-1]\n",
    "        consents = CaregiverChildConsent.objects.filter(subject_identifier=idx)\n",
    "        for index in range(len(schedule_name)):\n",
    "            if schedule_name[index].isdigit():\n",
    "                consents.update(caregiver_visit_count=int(schedule_name[index]))\n",
    "        break\n",
    "\n",
    "twins = CaregiverChildConsent.objects.filter(\n",
    "    Q(subject_identifier__endswith='-25') | Q(subject_identifier__endswith='-35')).values_list('subject_identifier', flat=True)\n",
    "twins = list(set(twins))\n",
    "# Use registered subject and relative identifier to update them"
   ]
  },
  {
   "cell_type": "code",
   "execution_count": null,
   "id": "e079ecdb",
   "metadata": {},
   "outputs": [],
   "source": []
  }
 ],
 "metadata": {
  "kernelspec": {
   "display_name": "Django Shell-Plus",
   "language": "python",
   "name": "django_extensions"
  },
  "language_info": {
   "codemirror_mode": {
    "name": "ipython",
    "version": 3
   },
   "file_extension": ".py",
   "mimetype": "text/x-python",
   "name": "python",
   "nbconvert_exporter": "python",
   "pygments_lexer": "ipython3",
   "version": "3.6.15"
  }
 },
 "nbformat": 4,
 "nbformat_minor": 5
}
