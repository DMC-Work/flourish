{
 "cells": [
  {
   "cell_type": "code",
   "execution_count": 4,
   "metadata": {
    "collapsed": true,
    "ExecuteTime": {
     "end_time": "2023-06-21T10:44:15.010203Z",
     "start_time": "2023-06-21T10:44:14.987986Z"
    }
   },
   "outputs": [],
   "source": [
    "import os, sys\n",
    "import django\n",
    "from datetime import datetime\n",
    "sys.path.append('../') # add path to project root dir\n",
    "\n",
    "os.environ[\"DJANGO_SETTINGS_MODULE\"] = \"flourish.settings\"\n",
    "from django.apps import apps as django_apps\n",
    "os.environ[\"DJANGO_ALLOW_ASYNC_UNSAFE\"] = \"true\"\n",
    "from django.apps import apps as django_appsh\n",
    "\n",
    "django.setup()"
   ]
  },
  {
   "cell_type": "code",
   "execution_count": 12,
   "outputs": [],
   "source": [
    "subject_id = 'B142-040990051-0'\n",
    "\n",
    "from flourish_caregiver.models.onschedule import OnScheduleCohortBSec, OnScheduleCohortBSecQuart, OnScheduleCohortCSec\n",
    "\n",
    "\n",
    "onschedule_cohort_bsec = OnScheduleCohortBSec.objects.filter(subject_identifier=subject_id).first()\n",
    "onschedule_cohort_bsec_quart = OnScheduleCohortBSecQuart.objects.filter(subject_identifier=subject_id).first()\n",
    "onschedule_cohort_csec = OnScheduleCohortCSec.objects.filter(subject_identifier=subject_id).first()\n",
    "\n",
    "\n",
    "onschc_objs = [onschedule_cohort_bsec,onschedule_cohort_bsec_quart,onschedule_cohort_csec]\n"
   ],
   "metadata": {
    "collapsed": false,
    "ExecuteTime": {
     "end_time": "2023-06-21T10:48:03.019560Z",
     "start_time": "2023-06-21T10:48:03.010464Z"
    }
   }
  },
  {
   "cell_type": "raw",
   "source": [
    "The participant has a single child assigned to cohort B, but there is an onschedule instance (OnScheduleCohortCSec) available for cohort C, which currently does not have any appointments associated with it. This is a bug, and should be fixed by deleting the onschedule instance for cohort C."
   ],
   "metadata": {
    "collapsed": false
   }
  },
  {
   "cell_type": "code",
   "execution_count": 14,
   "outputs": [
    {
     "name": "stdout",
     "output_type": "stream",
     "text": [
      "b_sec1_schedule1 <QuerySet [<Appointment: 2000M.0>]>\n",
      "b_sec_quart1_schedule1 <QuerySet [<Appointment: 2001M.0>, <Appointment: 2002M.0>, <Appointment: 2003M.0>, <Appointment: 2004M.0>, <Appointment: 2005M.0>, <Appointment: 2006M.0>, <Appointment: 2007M.0>, <Appointment: 2008M.0>, <Appointment: 2009M.0>, <Appointment: 2010M.0>, <Appointment: 2011M.0>, <Appointment: 2012M.0>, <Appointment: 2013M.0>, <Appointment: 2014M.0>, <Appointment: 2015M.0>, <Appointment: 2016M.0>]>\n",
      "c_sec2_schedule1 <QuerySet []>\n"
     ]
    }
   ],
   "source": [
    "from edc_appointment.models import Appointment\n",
    "\n",
    "for onschc_obj in onschc_objs:\n",
    "    appointments = Appointment.objects.filter(\n",
    "                subject_identifier=subject_id,\n",
    "                schedule_name=onschc_obj.schedule_name,\n",
    "    )\n",
    "\n",
    "    print(onschc_obj.schedule_name,appointments)\n",
    "\n",
    "    #delete the onschedule model if with no appointments\n",
    "    if not appointments:\n",
    "        onschc_obj.delete()"
   ],
   "metadata": {
    "collapsed": false,
    "ExecuteTime": {
     "end_time": "2023-06-21T10:49:50.055830Z",
     "start_time": "2023-06-21T10:49:49.966236Z"
    }
   }
  },
  {
   "cell_type": "code",
   "execution_count": 16,
   "outputs": [
    {
     "name": "stdout",
     "output_type": "stream",
     "text": [
      "None\n"
     ]
    }
   ],
   "source": [
    "onschedule_cohort_csec = OnScheduleCohortCSec.objects.filter(subject_identifier=subject_id).first()\n",
    "\n",
    "print(onschedule_cohort_csec)"
   ],
   "metadata": {
    "collapsed": false,
    "ExecuteTime": {
     "end_time": "2023-06-21T10:50:22.324372Z",
     "start_time": "2023-06-21T10:50:22.309400Z"
    }
   }
  },
  {
   "cell_type": "code",
   "execution_count": null,
   "outputs": [],
   "source": [],
   "metadata": {
    "collapsed": false
   }
  }
 ],
 "metadata": {
  "kernelspec": {
   "display_name": "Python 3",
   "language": "python",
   "name": "python3"
  },
  "language_info": {
   "codemirror_mode": {
    "name": "ipython",
    "version": 2
   },
   "file_extension": ".py",
   "mimetype": "text/x-python",
   "name": "python",
   "nbconvert_exporter": "python",
   "pygments_lexer": "ipython2",
   "version": "2.7.6"
  }
 },
 "nbformat": 4,
 "nbformat_minor": 0
}
