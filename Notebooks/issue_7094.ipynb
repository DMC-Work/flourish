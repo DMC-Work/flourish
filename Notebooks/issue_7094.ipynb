{
 "cells": [
  {
   "cell_type": "code",
   "execution_count": 2,
   "id": "2b4259ed",
   "metadata": {},
   "outputs": [],
   "source": [
    "# Redmine ticket 7094 - Update consented variable on the worklist for randomization.\n",
    "# Imports\n",
    "import json\n",
    "import os \n",
    "import pandas as pd\n",
    "from django.apps import apps as django_apps\n",
    "from django.core.exceptions import ValidationError\n",
    "os.environ[\"DJANGO_ALLOW_ASYNC_UNSAFE\"] = \"true\""
   ]
  },
  {
   "cell_type": "code",
   "execution_count": 3,
   "id": "f08bd934",
   "metadata": {},
   "outputs": [
    {
     "name": "stdout",
     "output_type": "stream",
     "text": [
      "updated 056-4983638-2\n",
      "updated B015268-3\n",
      "updated 056-4994831-2\n",
      "updated B014713-5\n",
      "updated 056-498976-3\n",
      "updated 056-4984552-6\n",
      "updated 056-1984269-0\n",
      "updated B015307-1\n",
      "updated 056-1984299-2\n",
      "updated 056-1982906-2\n",
      "updated 056-4981162-4\n",
      "updated B014165-8\n",
      "updated 056-4995071-4\n",
      "updated 056-4980607-5\n",
      "updated 056-498937-6\n",
      "updated 056-1980223-6\n",
      "updated B014556-5\n",
      ", missing dataset object.\n",
      "updated 056-1995079-2\n",
      "updated B015510-2\n",
      "updated 056-4980150-3\n",
      "updated 056-4982254-4\n",
      "updated B010784-4\n",
      "updated 056-1984140-4\n",
      "updated 085-40990138-2\n",
      "updated B014740-2\n",
      "updated 056-198969-3\n",
      "updated 085-40990042-4\n",
      "updated 056-4995259-3\n",
      "updated 085-40990230-3\n",
      "updated B014252-9\n",
      "updated 056-4984134-1\n",
      "updated 056-1984346-0\n",
      "updated 056-4981897-4\n",
      "updated 056-4994980-4\n",
      "updated 056-1984605-0\n",
      "updated 056-4995391-2\n",
      "updated 056-4981727-3\n",
      "updated 056-4982017-5\n",
      "updated 085-40990265-3\n",
      "updated B015130-6\n",
      "updated 056-4995060-0\n",
      "updated B001575-0\n",
      "updated 056-4981178-6\n",
      "updated 056-1984503-3\n",
      "updated 085-40990146-3\n",
      "updated B015421-9\n"
     ]
    }
   ],
   "source": [
    "worklists = WorkList.objects.all()\n",
    "\n",
    "for worklist in worklists:\n",
    "    # Check if participant is already consented\n",
    "    study_maternal_identifier = getattr(worklist, 'study_maternal_identifier', None)\n",
    "    try:\n",
    "        dataset = MaternalDataset.objects.get(study_maternal_identifier=study_maternal_identifier)\n",
    "    except MaternalDataset.DoesNotExist:\n",
    "        print(f'{study_maternal_identifier}, missing dataset object.')\n",
    "    else:\n",
    "        consents = SubjectConsent.objects.filter(\n",
    "            screening_identifier=getattr(dataset, 'screening_identifier', None))\n",
    "        if consents.exists() and not getattr(worklist, 'consented', True):\n",
    "            # Try resave the consents to update worklist and dataset\n",
    "            for consent in consents:\n",
    "                consent.save()\n",
    "            print(f'updated {study_maternal_identifier}')"
   ]
  },
  {
   "cell_type": "code",
   "execution_count": null,
   "id": "6cba1dc5",
   "metadata": {},
   "outputs": [],
   "source": []
  }
 ],
 "metadata": {
  "kernelspec": {
   "display_name": "Django Shell-Plus",
   "language": "python",
   "name": "django_extensions"
  },
  "language_info": {
   "codemirror_mode": {
    "name": "ipython",
    "version": 3
   },
   "file_extension": ".py",
   "mimetype": "text/x-python",
   "name": "python",
   "nbconvert_exporter": "python",
   "pygments_lexer": "ipython3",
   "version": "3.6.15"
  }
 },
 "nbformat": 4,
 "nbformat_minor": 5
}
