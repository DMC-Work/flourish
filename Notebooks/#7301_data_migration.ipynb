{
 "cells": [
  {
   "cell_type": "code",
   "execution_count": 5,
   "id": "3fbcab43",
   "metadata": {},
   "outputs": [],
   "source": [
    "import os, sys\n",
    "import django\n",
    "from datetime import datetime\n",
    "sys.path.append('../') # add path to project root dir\n",
    "import pandas as pd\n",
    "os.environ[\"DJANGO_SETTINGS_MODULE\"] = \"flourish.settings\"\n",
    "from django.apps import apps as django_apps\n",
    "os.environ[\"DJANGO_ALLOW_ASYNC_UNSAFE\"] = \"true\""
   ]
  },
  {
   "cell_type": "code",
   "execution_count": 6,
   "id": "5ee3aadc",
   "metadata": {
    "scrolled": true
   },
   "outputs": [
    {
     "name": "stderr",
     "output_type": "stream",
     "text": [
      "  8%|████████                                                                                               | 564/7162 [15:53<3:05:50,  1.69s/it]\n"
     ]
    },
    {
     "ename": "NameError",
     "evalue": "name 'errors' is not defined",
     "output_type": "error",
     "traceback": [
      "\u001b[0;31m---------------------------------------------------------------------------\u001b[0m",
      "\u001b[0;31mNotOnScheduleForDateError\u001b[0m                 Traceback (most recent call last)",
      "Cell \u001b[0;32mIn[6], line 33\u001b[0m\n\u001b[1;32m     32\u001b[0m \u001b[38;5;28;01mtry\u001b[39;00m:\n\u001b[0;32m---> 33\u001b[0m     \u001b[43mmodel_obj\u001b[49m\u001b[38;5;241;43m.\u001b[39;49m\u001b[43msave\u001b[49m\u001b[43m(\u001b[49m\u001b[43m)\u001b[49m\n\u001b[1;32m     34\u001b[0m \u001b[38;5;28;01mexcept\u001b[39;00m \u001b[38;5;167;01mException\u001b[39;00m \u001b[38;5;28;01mas\u001b[39;00m e:\n",
      "File \u001b[0;32m~/source/flourish-project/flourish-child-1/flourish_child/models/child_crf_model_mixin.py:41\u001b[0m, in \u001b[0;36mChildCrfModelMixin.save\u001b[0;34m(self, *args, **kwargs)\u001b[0m\n\u001b[1;32m     40\u001b[0m \u001b[38;5;28mself\u001b[39m\u001b[38;5;241m.\u001b[39mconsent_version \u001b[38;5;241m=\u001b[39m \u001b[38;5;28mself\u001b[39m\u001b[38;5;241m.\u001b[39mget_consent_version()\n\u001b[0;32m---> 41\u001b[0m \u001b[38;5;28;43msuper\u001b[39;49m\u001b[43m(\u001b[49m\u001b[43m)\u001b[49m\u001b[38;5;241;43m.\u001b[39;49m\u001b[43msave\u001b[49m\u001b[43m(\u001b[49m\u001b[38;5;241;43m*\u001b[39;49m\u001b[43margs\u001b[49m\u001b[43m,\u001b[49m\u001b[43m \u001b[49m\u001b[38;5;241;43m*\u001b[39;49m\u001b[38;5;241;43m*\u001b[39;49m\u001b[43mkwargs\u001b[49m\u001b[43m)\u001b[49m\n",
      "File \u001b[0;32m~/anaconda3/envs/flourish/lib/python3.11/site-packages/edc_visit_tracking/model_mixins/crf_model_mixin.py:45\u001b[0m, in \u001b[0;36mCrfModelMixin.save\u001b[0;34m(self, *args, **kwargs)\u001b[0m\n\u001b[1;32m     40\u001b[0m     \u001b[38;5;28mself\u001b[39m\u001b[38;5;241m.\u001b[39mcrf_date_validator_cls(\n\u001b[1;32m     41\u001b[0m         report_datetime\u001b[38;5;241m=\u001b[39m\u001b[38;5;28mself\u001b[39m\u001b[38;5;241m.\u001b[39mreport_datetime,\n\u001b[1;32m     42\u001b[0m         visit_report_datetime\u001b[38;5;241m=\u001b[39m\u001b[38;5;28mself\u001b[39m\u001b[38;5;241m.\u001b[39mvisit\u001b[38;5;241m.\u001b[39mreport_datetime,\n\u001b[1;32m     43\u001b[0m         created\u001b[38;5;241m=\u001b[39m\u001b[38;5;28mself\u001b[39m\u001b[38;5;241m.\u001b[39mcreated,\n\u001b[1;32m     44\u001b[0m         modified\u001b[38;5;241m=\u001b[39m\u001b[38;5;28mself\u001b[39m\u001b[38;5;241m.\u001b[39mmodified)\n\u001b[0;32m---> 45\u001b[0m \u001b[38;5;28;43msuper\u001b[39;49m\u001b[43m(\u001b[49m\u001b[43m)\u001b[49m\u001b[38;5;241;43m.\u001b[39;49m\u001b[43msave\u001b[49m\u001b[43m(\u001b[49m\u001b[38;5;241;43m*\u001b[39;49m\u001b[43margs\u001b[49m\u001b[43m,\u001b[49m\u001b[43m \u001b[49m\u001b[38;5;241;43m*\u001b[39;49m\u001b[38;5;241;43m*\u001b[39;49m\u001b[43mkwargs\u001b[49m\u001b[43m)\u001b[49m\n",
      "File \u001b[0;32m~/anaconda3/envs/flourish/lib/python3.11/site-packages/edc_visit_schedule/model_mixins/subject_schedule_crf_model_mixin.py:25\u001b[0m, in \u001b[0;36mSubjectScheduleCrfModelMixin.save\u001b[0;34m(self, *args, **kwargs)\u001b[0m\n\u001b[1;32m     22\u001b[0m subject_schedule \u001b[38;5;241m=\u001b[39m \u001b[38;5;28mself\u001b[39m\u001b[38;5;241m.\u001b[39msubject_schedule_cls(\n\u001b[1;32m     23\u001b[0m     visit_schedule\u001b[38;5;241m=\u001b[39mvisit_schedule,\n\u001b[1;32m     24\u001b[0m     schedule\u001b[38;5;241m=\u001b[39mschedule)\n\u001b[0;32m---> 25\u001b[0m \u001b[43msubject_schedule\u001b[49m\u001b[38;5;241;43m.\u001b[39;49m\u001b[43monschedule_or_raise\u001b[49m\u001b[43m(\u001b[49m\n\u001b[1;32m     26\u001b[0m \u001b[43m    \u001b[49m\u001b[43msubject_identifier\u001b[49m\u001b[38;5;241;43m=\u001b[39;49m\u001b[43msubject_identifier\u001b[49m\u001b[43m,\u001b[49m\n\u001b[1;32m     27\u001b[0m \u001b[43m    \u001b[49m\u001b[43mreport_datetime\u001b[49m\u001b[38;5;241;43m=\u001b[39;49m\u001b[38;5;28;43mself\u001b[39;49m\u001b[38;5;241;43m.\u001b[39;49m\u001b[43mvisit\u001b[49m\u001b[38;5;241;43m.\u001b[39;49m\u001b[43mreport_datetime\u001b[49m\u001b[43m,\u001b[49m\n\u001b[1;32m     28\u001b[0m \u001b[43m    \u001b[49m\u001b[43mcompare_as_datetimes\u001b[49m\u001b[38;5;241;43m=\u001b[39;49m\u001b[38;5;28;43mself\u001b[39;49m\u001b[38;5;241;43m.\u001b[39;49m\u001b[43moffschedule_compare_dates_as_datetimes\u001b[49m\u001b[43m)\u001b[49m\n\u001b[1;32m     29\u001b[0m \u001b[38;5;28msuper\u001b[39m()\u001b[38;5;241m.\u001b[39msave(\u001b[38;5;241m*\u001b[39margs, \u001b[38;5;241m*\u001b[39m\u001b[38;5;241m*\u001b[39mkwargs)\n",
      "File \u001b[0;32m~/anaconda3/envs/flourish/lib/python3.11/site-packages/edc_visit_schedule/subject_schedule.py:330\u001b[0m, in \u001b[0;36mSubjectSchedule.onschedule_or_raise\u001b[0;34m(self, subject_identifier, report_datetime, compare_as_datetimes)\u001b[0m\n\u001b[1;32m    328\u001b[0m formatted_date \u001b[38;5;241m=\u001b[39m report_datetime\u001b[38;5;241m.\u001b[39mstrftime(\n\u001b[1;32m    329\u001b[0m     convert_php_dateformat(settings\u001b[38;5;241m.\u001b[39mSHORT_DATE_FORMAT))\n\u001b[0;32m--> 330\u001b[0m \u001b[38;5;28;01mraise\u001b[39;00m NotOnScheduleForDateError(\n\u001b[1;32m    331\u001b[0m     \u001b[38;5;124mf\u001b[39m\u001b[38;5;124m'\u001b[39m\u001b[38;5;124mSubject not on schedule \u001b[39m\u001b[38;5;132;01m{\u001b[39;00m\u001b[38;5;28mself\u001b[39m\u001b[38;5;241m.\u001b[39mschedule_name\u001b[38;5;132;01m}\u001b[39;00m\u001b[38;5;124m on \u001b[39m\u001b[38;5;124m'\u001b[39m\n\u001b[1;32m    332\u001b[0m     \u001b[38;5;124mf\u001b[39m\u001b[38;5;124m'\u001b[39m\u001b[38;5;132;01m{\u001b[39;00mformatted_date\u001b[38;5;132;01m}\u001b[39;00m\u001b[38;5;124m. Got \u001b[39m\u001b[38;5;132;01m{\u001b[39;00msubject_identifier\u001b[38;5;132;01m}\u001b[39;00m\u001b[38;5;124m.\u001b[39m\u001b[38;5;124m'\u001b[39m)\n",
      "\u001b[0;31mNotOnScheduleForDateError\u001b[0m: Subject not on schedule child_c_sec_schedule1 on 2021-05-07. Got B142-040990003-1-10.",
      "\nDuring handling of the above exception, another exception occurred:\n",
      "\u001b[0;31mNameError\u001b[0m                                 Traceback (most recent call last)",
      "Cell \u001b[0;32mIn[6], line 36\u001b[0m\n\u001b[1;32m     34\u001b[0m \u001b[38;5;28;01mexcept\u001b[39;00m \u001b[38;5;167;01mException\u001b[39;00m \u001b[38;5;28;01mas\u001b[39;00m e:\n\u001b[1;32m     35\u001b[0m     subject_identifier \u001b[38;5;241m=\u001b[39m model_obj\u001b[38;5;241m.\u001b[39mchild_visit\u001b[38;5;241m.\u001b[39msubject_identifier\n\u001b[0;32m---> 36\u001b[0m     \u001b[43merrors\u001b[49m\u001b[38;5;241m.\u001b[39mappend({\n\u001b[1;32m     37\u001b[0m         \u001b[38;5;124m'\u001b[39m\u001b[38;5;124msubject_identifier\u001b[39m\u001b[38;5;124m'\u001b[39m: subject_identifier,\n\u001b[1;32m     38\u001b[0m         \u001b[38;5;124m'\u001b[39m\u001b[38;5;124mexception\u001b[39m\u001b[38;5;124m'\u001b[39m: e})\n",
      "\u001b[0;31mNameError\u001b[0m: name 'errors' is not defined"
     ]
    }
   ],
   "source": [
    "import json\n",
    "from django.db.models.signals import post_save, pre_save\n",
    "from tqdm import tqdm\n",
    "\n",
    "\n",
    "flourish_child_file = open('flourish_child_childmedicalhistory.json')\n",
    "\n",
    "data_list = json.load(flourish_child_file)\n",
    "errors = []\n",
    "\n",
    "pre_save.disconnect(sender=ChildMedicalHistory)\n",
    "post_save.disconnect(sender=ChildMedicalHistory)\n",
    "\n",
    "for data_dict in tqdm(data_list):\n",
    "    model_cls = django_apps.get_model(data_dict['model'])\n",
    "\n",
    "    try:\n",
    "        model_obj = model_cls.objects.get(pk = data_dict['pk'])\n",
    "    except model_cls.DoesNotExist:\n",
    "        pass\n",
    "    else:\n",
    "        current_symptoms_value = data_dict['fields'].get('current_symptoms', '')\n",
    "        current_medications_value = data_dict['fields'].get('current_medications', '')\n",
    "\n",
    "        general_symptoms_objs = GeneralSymptoms.objects.filter(\n",
    "            short_name = current_symptoms_value)\n",
    "\n",
    "        medications_objs = Medications.objects.filter(\n",
    "        short_name = current_medications_value)\n",
    "\n",
    "        model_obj.current_symptoms.set(general_symptoms_objs)\n",
    "        model_obj.current_medications.set(medications_objs)\n",
    "\n",
    "        try:\n",
    "            model_obj.save()\n",
    "        except Exception as e:\n",
    "            subject_identifier = model_obj.child_visit.subject_identifier\n",
    "            errors.append({\n",
    "                'subject_identifier': subject_identifier,\n",
    "                'exception': e})\n",
    "\n",
    "\n",
    "\n"
   ]
  },
  {
   "cell_type": "code",
   "execution_count": null,
   "id": "9454c4ae",
   "metadata": {},
   "outputs": [],
   "source": [
    "import concurrent.futures, multiprocessing, threading\n",
    "from tqdm import tqdm\n",
    "\n",
    "\n",
    "\n",
    "\n",
    "import json\n",
    "from django.apps import apps as django_apps\n",
    "from django.db.models.signals import pre_save, post_save\n",
    "from flourish_child.models import *\n",
    "import os\n",
    "\n",
    "\n",
    "\n",
    "num_cores = os.cpu_count()\n",
    "\n",
    "recommended_threads = min(8, num_cores)  # For example, limit to 8 threads\n",
    "\n",
    "# Using ThreadPoolExecutor to parallelize the for loop\n",
    "with concurrent.futures.ThreadPoolExecutor(max_workers=recommended_threads) as executor:\n",
    "    \n",
    "    print('=== querysets to be updated====')\n",
    "\n",
    "    # Map the function to the items, running in parallel\n",
    "    _ = tqdm(executor.map(update_queryset, data_list), total=len(data_list))\n"
   ]
  },
  {
   "cell_type": "code",
   "execution_count": null,
   "id": "495a4699",
   "metadata": {},
   "outputs": [],
   "source": [
    "def populate():\n",
    "    for data_dict in tqdm(data_list):\n",
    "    model_cls = django_apps.get_model(data_dict['model'])\n",
    "\n",
    "    try:\n",
    "        model_obj = model_cls.objects.get(pk = data_dict['pk'])\n",
    "    except model_cls.DoesNotExist:\n",
    "        pass\n",
    "    else:\n",
    "        current_symptoms_value = data_dict['fields'].get('current_symptoms', '')\n",
    "        current_medications_value = data_dict['fields'].get('current_medications', '')\n",
    "\n",
    "        general_symptoms_objs = GeneralSymptoms.objects.filter(\n",
    "            short_name = current_symptoms_value)\n",
    "\n",
    "        medications_objs = Medications.objects.filter(\n",
    "        short_name = current_medications_value)\n",
    "\n",
    "        model_obj.current_symptoms.set(general_symptoms_objs)\n",
    "        model_obj.current_medications.set(medications_objs)\n",
    "\n",
    "        try:\n",
    "            model_obj.save()\n",
    "        except Exception as e:\n",
    "            subject_identifier = model_obj.child_visit.subject_identifier\n",
    "            errors.append({\n",
    "                'subject_identifier': subject_identifier,\n",
    "                'exception': e})\n"
   ]
  },
  {
   "cell_type": "code",
   "execution_count": null,
   "id": "6db9ef78",
   "metadata": {},
   "outputs": [],
   "source": []
  },
  {
   "cell_type": "code",
   "execution_count": null,
   "id": "ce146acf",
   "metadata": {},
   "outputs": [],
   "source": []
  }
 ],
 "metadata": {
  "kernelspec": {
   "display_name": "Django Shell-Plus",
   "language": "python",
   "name": "django_extensions"
  },
  "language_info": {
   "codemirror_mode": {
    "name": "ipython",
    "version": 3
   },
   "file_extension": ".py",
   "mimetype": "text/x-python",
   "name": "python",
   "nbconvert_exporter": "python",
   "pygments_lexer": "ipython3",
   "version": "3.11.3"
  }
 },
 "nbformat": 4,
 "nbformat_minor": 5
}
