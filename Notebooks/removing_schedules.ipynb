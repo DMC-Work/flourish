{
 "cells": [
  {
   "cell_type": "code",
   "execution_count": 1,
   "id": "initial_id",
   "metadata": {
    "collapsed": true,
    "ExecuteTime": {
     "end_time": "2023-08-01T05:32:31.536980Z",
     "start_time": "2023-08-01T05:32:19.613095Z"
    }
   },
   "outputs": [
    {
     "name": "stdout",
     "output_type": "stream",
     "text": [
      "  * Reading config from flourish.ini\n",
      "Loading Data Encryption (init)...\n",
      " * loading keys from /Users/nimrodmunatsi/source/flourish-code-space/flourish/crypto_fields\n",
      " * loading rsa.restricted.public ... Done.\n",
      " * loading rsa.restricted.private ... Done.\n",
      " * loading rsa.local.public ... Done.\n",
      " * loading rsa.local.private ... Done.\n",
      " * loading aes.local ... Done.\n",
      " * loading aes.restricted ... Done.\n",
      " * loading salt.local ... Done.\n",
      " * loading salt.restricted ... Done.\n",
      " Done loading Data Encryption (init)...\n"
     ]
    },
    {
     "name": "stderr",
     "output_type": "stream",
     "text": [
      "/Users/nimrodmunatsi/.venv/flourish/lib/python3.9/site-packages/django_q/conf.py:139: UserWarning: Retry and timeout are misconfigured. Set retry larger than timeout, \n",
      "        failure to do so will cause the tasks to be retriggered before completion. \n",
      "        See https://django-q.readthedocs.io/en/latest/configure.html#retry for details.\n",
      "  warn(\n",
      "/Users/nimrodmunatsi/.venv/flourish/lib/python3.9/site-packages/simple_history/models.py:164: UserWarning: HistoricalRecords added to abstract model (HistoryManagerMixin) without inherit=True\n",
      "  warnings.warn(msg, UserWarning)\n",
      "/Users/nimrodmunatsi/.venv/flourish/lib/python3.9/site-packages/simple_history/models.py:164: UserWarning: HistoricalRecords added to abstract model (ScheduleModelMixin) without inherit=True\n",
      "  warnings.warn(msg, UserWarning)\n",
      "/Users/nimrodmunatsi/.venv/flourish/lib/python3.9/site-packages/simple_history/models.py:164: UserWarning: HistoricalRecords added to abstract model (VisitModelMixin) without inherit=True\n",
      "  warnings.warn(msg, UserWarning)\n",
      "/Users/nimrodmunatsi/.venv/flourish/lib/python3.9/site-packages/simple_history/models.py:164: UserWarning: HistoricalRecords added to abstract model (OnScheduleModelMixin) without inherit=True\n",
      "  warnings.warn(msg, UserWarning)\n",
      "/Users/nimrodmunatsi/.venv/flourish/lib/python3.9/site-packages/simple_history/models.py:164: UserWarning: HistoricalRecords added to abstract model (OnScheduleModelMixin) without inherit=True\n",
      "  warnings.warn(msg, UserWarning)\n",
      "/Users/nimrodmunatsi/.venv/flourish/lib/python3.9/site-packages/simple_history/models.py:164: UserWarning: HistoricalRecords added to abstract model (OffStudyMixin) without inherit=True\n",
      "  warnings.warn(msg, UserWarning)\n"
     ]
    },
    {
     "name": "stdout",
     "output_type": "stream",
     "text": [
      "Loading Data Encryption ...\n",
      " * found encryption keys in /Users/nimrodmunatsi/source/flourish-code-space/flourish/crypto_fields.\n",
      " * using model django_crypto_fields.crypt.\n",
      " Done loading Data Encryption.\n",
      "Loading Edc Consent ...\n",
      " * checking for site consents ...\n",
      " * registered consents 'consents' from 'flourish_caregiver'\n",
      " * registered consents 'consents' from 'flourish_child'\n",
      " * registered consents 'consents' from 'pre_flourish'\n",
      " * flourish_caregiver.subjectconsent 1 covering 2020-07-01 UTC to 2025-06-30 UTC\n",
      " * flourish_caregiver.subjectconsent 2 covering 2020-07-01 UTC to 2025-06-30 UTC\n",
      " * flourish_caregiver.subjectconsent 3 covering 2020-07-01 UTC to 2025-06-30 UTC\n",
      " * flourish_caregiver.tbadolconsent 1 covering 2020-07-01 UTC to 2025-06-30 UTC\n",
      " * flourish_caregiver.tbinformedconsent 1 covering 2020-07-01 UTC to 2025-06-30 UTC\n",
      " * flourish_child.childdummysubjectconsent 1 covering 2020-07-01 UTC to 2025-06-30 UTC\n",
      " * flourish_child.childdummysubjectconsent 2 covering 2020-07-01 UTC to 2025-06-30 UTC\n",
      " * flourish_child.childdummysubjectconsent 2.1 covering 2020-07-01 UTC to 2025-06-30 UTC\n",
      " * flourish_child.childdummysubjectconsent 3 covering 2020-07-01 UTC to 2025-06-30 UTC\n",
      " * pre_flourish.preflourishcaregiverchildconsent 1 covering 2020-07-01 UTC to 2025-06-30 UTC\n",
      " * pre_flourish.preflourishchilddummysubjectconsent 1 covering 2020-07-01 UTC to 2025-06-30 UTC\n",
      " * pre_flourish.preflourishconsent 1 covering 2020-07-01 UTC to 2025-06-30 UTC\n",
      " Done loading Edc Consent.\n",
      "Loading Edc Device ...\n",
      "  * device id is '99'.\n",
      "  * device role is 'CentralServer'.\n",
      " Done loading Edc Device.\n",
      "Loading Edc Identifier ...\n",
      " Warning: 'identifier_prefix' has not been explicitly set. Using default '999'. See AppConfig.\n",
      " * identifier prefix: 999\n",
      " * check-digit modulus: 7\n",
      " Done loading Edc Identifier\n",
      "Loading Edc Lab ...\n",
      " * checking for labs ...\n",
      " Done loading Edc Lab.\n",
      "Loading Edc Navbar ...\n",
      " * checking for site navbars ...\n",
      " * searching edc_consent           \r         * registered navbars 'navbars' from 'edc_consent'\n",
      " * registered navbars 'navbars' from 'edc_device'\n",
      " * registered navbars 'navbars' from 'edc_navbar'\n",
      " * registered navbars 'navbars' from 'edc_reference'\n",
      " * registered navbars 'navbars' from 'edc_visit_schedule'\n",
      " * registered navbars 'navbars' from 'flourish_export'\n",
      " * registered navbars 'navbars' from 'flourish_dashboard'\n",
      " * registered navbars 'navbars' from 'flourish_follow'\n",
      " * registered navbars 'navbars' from 'pre_flourish_follow'\n",
      " * registered navbars 'navbars' from 'flourish_reports'\n",
      " * registered navbars 'navbars' from 'edc_base'\n",
      " * registered navbars 'navbars' from 'edc_data_manager'\n",
      " * registered navbars 'navbars' from 'edc_odk'\n",
      " * registered navbars 'navbars' from 'edc_protocol'\n",
      " * registered navbars 'navbars' from 'edc_senaite_interface'\n",
      " * registered navbars 'navbars' from 'pre_flourish'\n",
      " * registered navbars 'navbars' from 'flourish_calendar'\n",
      " * registered navbars 'navbars' from 'flourish'\n",
      " Done loading Edc Navbar.             \n",
      " * checking for site prn_forms ...\n",
      "Loading Edc Registration ...                   \n",
      "  * using edc_registration.registeredsubject\n",
      " Done loading Edc Registration.\n",
      "Loading Edc Reference ...\n",
      " * checking for reference_model_configs ...\n",
      " * checking for labs ...\n",
      " * registered reference model configs from application 'flourish_reference'\n",
      " Done loading Edc Reference.\n",
      "Loading Visit Schedules ...\n",
      " * checking site for module 'visit_schedules' ...\n",
      " * registered visit schedule from 'flourish_visit_schedule'\n",
      " * registered visit schedule from 'pre_flourish'\n",
      " Done loading Visit Schedules.\n",
      "Loading EDC Call Manager ...\n",
      " * call models are in app edc_call_manager.\n",
      " * checking for site model_callers ...\n",
      " * registered model caller '<class 'flourish_follow.model_callers.model_callers.WorkListFollowUpModelCaller'>'\n",
      " * registered model caller '<class 'pre_flourish_follow.model_callers.model_callers.PreFlourishWorkListFollowUpModelCaller'>'\n",
      " Done loading EDC Call Manager.\n",
      "Loading edc_metadata_rules ...\n",
      " * checking for metadata_rules ...\n",
      "   - imported metadata rules from 'flourish_metadata_rules.metadata_rules'\n",
      "   - imported metadata rules from 'pre_flourish.metadata_rules'\n",
      " Done loading edc_metadata_rules.\n",
      "Loading Edc Appointments ...\n",
      " * edc_appointment.appointment.\n",
      " * pre_flourish.appointment.\n",
      " * flourish_child.appointment.\n",
      " Done loading Edc Appointments.\n",
      "Loading Edc Base ...\n",
      " * default TIME_ZONE Africa/Gaborone.\n",
      " Done loading Edc Base.\n",
      "Loading Edc Facility ...\n",
      " * 7-Day Clinic MO(100 slots), TU(100 slots), WE(100 slots), TH(100 slots), FR(100 slots), SA(100 slots), SU(100 slots).\n",
      " * 5-Day Clinic MO(100 slots), TU(100 slots), WE(100 slots), TH(100 slots), FR(100 slots).\n",
      " Done loading Edc Facility.\n",
      "Loading Edc Metadata ...\n",
      " * using default metadata models from 'edc_metadata'\n",
      " Done loading Edc Metadata.\n",
      "Loading Edc Protocol ...\n",
      " * BHP142: Flourish.\n",
      " * Study opening date: 2020-07-01 UTC\n",
      " * Expected study closing date: 2025-06-30 UTC\n",
      " Done loading Edc Protocol.\n",
      "Loading Edc Visit Tracking ...\n",
      " * flourish_caregiver.maternalvisit uses model attr 'maternal_visit'\n",
      " * flourish_child.childvisit uses model attr 'child_visit'\n",
      " * pre_flourish.preflourishvisit uses model attr 'pre_flourish_visit'\n",
      " Done loading Edc Visit Tracking.\n",
      "Loading Edc Timepoint ...\n",
      " * 'edc_appointment.appointment' is a timepoint model.\n",
      " * 'edc_appointment.historicalappointment' is a timepoint model.\n",
      " * 'pre_flourish.appointment' is a timepoint model.\n",
      " * 'flourish_child.appointment' is a timepoint model.\n",
      " * 'flourish_child.historicalappointment' is a timepoint model.\n",
      " Done loading Edc Timepoint.\n"
     ]
    }
   ],
   "source": [
    "# Redmine ticket 6885 - Removing a panel from a visit\n",
    "import os, sys\n",
    "import django\n",
    "sys.path.append('../..') # add path to project root dir\n",
    "os.environ[\"DJANGO_SETTINGS_MODULE\"] = \"flourish.settings\"\n",
    "from django.apps import apps as django_apps\n",
    "os.environ[\"DJANGO_ALLOW_ASYNC_UNSAFE\"] = \"true\"\n",
    "from django.apps import apps as django_apps\n",
    "\n",
    "django.setup()"
   ]
  },
  {
   "cell_type": "code",
   "execution_count": 6,
   "outputs": [
    {
     "data": {
      "text/plain": "(1, {'edc_appointment.Appointment': 1})"
     },
     "execution_count": 6,
     "metadata": {},
     "output_type": "execute_result"
    }
   ],
   "source": [
    "from edc_appointment.models import Appointment\n",
    "from edc_visit_schedule.models import SubjectScheduleHistory\n",
    "\n",
    "appointment_obj= Appointment.objects.get(\n",
    "    subject_identifier='B142-040990804-2',\n",
    "    visit_code='2000M',\n",
    "    schedule_name='b_sec3_schedule1',\n",
    ")\n",
    "\n",
    "subject_schedule_history_obj=SubjectScheduleHistory.objects.get(\n",
    "    subject_identifier=appointment_obj.subject_identifier,\n",
    "    schedule_name=appointment_obj.schedule_name,\n",
    "    visit_schedule_name= appointment_obj.visit_schedule_name,\n",
    ")\n",
    "onschedule_model_cls= django_apps.get_model(subject_schedule_history_obj.onschedule_model)\n",
    "\n",
    "onschedule_model_obj = onschedule_model_cls.objects.get(\n",
    "    subject_identifier=appointment_obj.subject_identifier,\n",
    "    schedule_name=appointment_obj.schedule_name,\n",
    "    onschedule_datetime=subject_schedule_history_obj.onschedule_datetime,\n",
    ")\n",
    "\n",
    "onschedule_model_obj.delete()\n",
    "subject_schedule_history_obj.delete()\n",
    "appointment_obj.delete()"
   ],
   "metadata": {
    "collapsed": false,
    "ExecuteTime": {
     "end_time": "2023-08-01T05:46:37.573851Z",
     "start_time": "2023-08-01T05:46:37.308641Z"
    }
   },
   "id": "2d8d8d7100f1683f"
  },
  {
   "cell_type": "code",
   "execution_count": 12,
   "outputs": [
    {
     "data": {
      "text/plain": "(1, {'edc_visit_schedule.SubjectScheduleHistory': 1})"
     },
     "execution_count": 12,
     "metadata": {},
     "output_type": "execute_result"
    }
   ],
   "source": [
    "subject_schedule_history_obj=SubjectScheduleHistory.objects.get(\n",
    "    subject_identifier='B142-040990058-5',\n",
    "    schedule_name='c_sec2_schedule1',\n",
    "    visit_schedule_name='c2_visit_schedule1' ,\n",
    ")\n",
    "onschedule_model_cls= django_apps.get_model(subject_schedule_history_obj.onschedule_model)\n",
    "\n",
    "onschedule_model_obj = onschedule_model_cls.objects.get(\n",
    "    subject_identifier=subject_schedule_history_obj.subject_identifier,\n",
    "    schedule_name=subject_schedule_history_obj.schedule_name,\n",
    "    onschedule_datetime=subject_schedule_history_obj.onschedule_datetime,\n",
    ")\n",
    "\n",
    "onschedule_model_obj.delete()\n",
    "subject_schedule_history_obj.delete()"
   ],
   "metadata": {
    "collapsed": false,
    "ExecuteTime": {
     "end_time": "2023-08-01T05:53:39.152672Z",
     "start_time": "2023-08-01T05:53:39.038152Z"
    }
   },
   "id": "3e13dcfddbd55932"
  },
  {
   "cell_type": "code",
   "execution_count": 11,
   "outputs": [
    {
     "data": {
      "text/plain": "{'_state': <django.db.models.base.ModelState at 0x1497604f0>,\n 'created': datetime.datetime(2021, 6, 23, 20, 25, 16, 886812, tzinfo=<UTC>),\n 'modified': datetime.datetime(2021, 6, 23, 20, 25, 16, 886823, tzinfo=<UTC>),\n 'user_created': '',\n 'user_modified': '',\n 'hostname_created': 'flourish',\n 'hostname_modified': 'flourish',\n 'revision': '',\n 'device_created': '99',\n 'device_modified': '99',\n 'id': UUID('48801ac9-6afa-49d5-a027-77d1d2c6cb3e'),\n 'subject_identifier': 'B142-040990058-5',\n 'visit_schedule_name': 'c2_visit_schedule1',\n 'schedule_name': 'c_sec2_schedule1',\n 'onschedule_model': 'flourish_caregiver.onschedulecohortcsec',\n 'offschedule_model': 'flourish_caregiver.caregiveroffschedule',\n 'onschedule_datetime': datetime.datetime(2021, 6, 3, 9, 26, 45, 426573, tzinfo=<UTC>),\n 'offschedule_datetime': None,\n 'schedule_status': 'onschedule'}"
     },
     "execution_count": 11,
     "metadata": {},
     "output_type": "execute_result"
    }
   ],
   "source": [
    "subject_schedule_history_obj=SubjectScheduleHistory.objects.filter(\n",
    "    subject_identifier='B142-040990058-5',\n",
    ")\n",
    "subject_schedule_history_obj[2].__dict__\n"
   ],
   "metadata": {
    "collapsed": false,
    "ExecuteTime": {
     "end_time": "2023-08-01T05:52:28.094395Z",
     "start_time": "2023-08-01T05:52:28.080341Z"
    }
   },
   "id": "f43fab6bd34921b4"
  },
  {
   "cell_type": "code",
   "execution_count": null,
   "outputs": [],
   "source": [],
   "metadata": {
    "collapsed": false
   },
   "id": "4c740f8c02ef61d5"
  }
 ],
 "metadata": {
  "kernelspec": {
   "display_name": "Python 3",
   "language": "python",
   "name": "python3"
  },
  "language_info": {
   "codemirror_mode": {
    "name": "ipython",
    "version": 2
   },
   "file_extension": ".py",
   "mimetype": "text/x-python",
   "name": "python",
   "nbconvert_exporter": "python",
   "pygments_lexer": "ipython2",
   "version": "2.7.6"
  }
 },
 "nbformat": 4,
 "nbformat_minor": 5
}
